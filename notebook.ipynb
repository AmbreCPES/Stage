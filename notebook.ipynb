{
 "cells": [
  {
   "cell_type": "code",
   "execution_count": 1,
   "metadata": {},
   "outputs": [],
   "source": [
    "using Plots # you should really use Makie but that's for later\n",
    "using Random\n",
    "using StatsBase"
   ]
  },
  {
   "cell_type": "code",
   "execution_count": 1,
   "metadata": {},
   "outputs": [
    {
     "data": {
      "text/plain": [
       "simulate_bp (generic function with 1 method)"
      ]
     },
     "metadata": {},
     "output_type": "display_data"
    }
   ],
   "source": [
    "# simulate one time step of the branching process\n",
    "# offspring_func : function that randomly generates number of offspring for one individual\n",
    "function step_bp(pop_size, offspring_func, death_rate_t)\n",
    "\tnew_pop_size = 0\n",
    "\tfor _ in 1:pop_size\n",
    "        if death_func(death_rate_t) == 1\n",
    "\t\t    new_pop_size += offspring_func(pop_size)\n",
    "        end\n",
    "\tend\n",
    "\treturn new_pop_size\n",
    "end\n",
    "\n",
    "\n",
    "#Okay Now I don't want the population to stop growing because of a carrying capacity but because cell death rate increase exponentially with time\n",
    "function death_func(death_rate)\n",
    "\tdeath_prob = [death_rate, 1 - death_rate] # probability of dying, and surviving\n",
    "\treturn sample(0:length(death_prob)-1, ProbabilityWeights(death_prob))\n",
    "end\n",
    "\n",
    "function death_rate(t, a=0.009, c=0)\n",
    "\t# death rate follows a linear pattern dependant of time : at+c\n",
    "\treturn a*t+c\n",
    "end\n",
    "\n",
    "function new_offspring_func(pop_size)\n",
    "\toffspring_prob = [0.9, 0.1] # probability of staying put and dividing\n",
    "\treturn sample(1:length(offspring_prob), ProbabilityWeights(offspring_prob))\n",
    "end\n",
    "\n",
    "function simulate_bp(steps, offspring_func)\n",
    "\tbp = zeros(steps)\n",
    "\tbp[1] = 1\n",
    "\tfor t in 2:steps\n",
    "\t\tdeath_rate_t = death_rate(t)\n",
    "\t\tbp[t] = step_bp(bp[t-1], offspring_func, death_rate_t)#ici on regarde la population à t-1 donc ici on fix pop_size=1 à t=0\n",
    "        if bp[t] == 0\n",
    "            print(\"Everyone died :( in \", t, \" time steps\")\n",
    "            break\n",
    "        end\n",
    "\tend\n",
    "\treturn bp\n",
    "end"
   ]
  },
  {
   "cell_type": "code",
   "execution_count": null,
   "metadata": {},
   "outputs": [],
   "source": [
    "# simulate 10 independent branching processes\n",
    "bps = [simulate_bp(100, const_offspring_func) for _ in 1:10];\n",
    "plot(bps, label=nothing) # these explode or go extinct\n"
   ]
  },
  {
   "cell_type": "markdown",
   "metadata": {},
   "source": [
    "Actually this seems trivial but make sens for what we are trying to model. When we look at HSC transplantation often you have an initial increase but then graft fails because the number of \"young MPP\" is not growing fast enough and so eventually differientated cell population crash after a few weeks even if there is a \"burst\" of new cells right after transplant\n",
    "\n",
    "So now what if we tried to implement self renewal in this process death rate is dependant of cells' age and not of the system's age. The goal is to reach a stable state."
   ]
  },
  {
   "cell_type": "code",
   "execution_count": null,
   "metadata": {},
   "outputs": [],
   "source": [
    "#Thus we define a cells repertory which keeps track of cell ages (2 arrays one with ID the other with age)\n",
    "#We must define a function which create new young cells at random time\n",
    "function population_init(nbr_cells)\n",
    "    cells_id = collect(1:nbr_cells) #array of integers from 1 to nbr_cells\n",
    "    cells_age = zeros(nbr_cells)\n",
    "end\n",
    "\n",
    "function cells_creation(creation_rate)\n",
    "    sample(0:1, ProbabilityWeights([1 - creation_rate, creation_rate]))\n",
    "end\n",
    "\n",
    "function death_func(age, a=0.009, c=0)\n",
    "    death_rate = a * age + c\n",
    "\tdeath_prob = [death_rate, 1 - death_rate] # probability of dying, and surviving\n",
    "\treturn sample(0:length(death_prob)-1, ProbabilityWeights(death_prob))\n",
    "end\n",
    "\n",
    "function step_bp_2(tot_cells, cells_id, cells_age, offspring_func, death_rate_t, creation_rate)\n",
    "    new_cells = []\n",
    "    dead_cells = []\n",
    "    pop_size = length(cells_id)\n",
    "\tfor i in 1:pop_size\n",
    "        age = cells_age[i]\n",
    "        if death_func(death_rate_t,age) == 1\n",
    "\t\t    if offspring_func(pop_size) == 1\n",
    "                cells_age[i] += 1\n",
    "            else\n",
    "                append!(new_cells,[cells_age[i]+=1,cells_age[i]+=1])\n",
    "                append!(dead_cells,i)\n",
    "            end  \n",
    "        else\n",
    "            append!(dead_cells,i)\n",
    "        end\n",
    "\tend\n",
    "    if cells_creation == 1\n",
    "        append!(new_cells,0)\n",
    "    deleteat!(cells_id, dead_cells) \n",
    "    deleteat!(cells_age, dead_cells)\n",
    "\n",
    "    append!(cells_id, tot_cells:(tot_cells+length(new_cells)))\n",
    "    append!(cells_age, new_cells)\n",
    "\n",
    "\treturn [cells_id, cells_age]\n",
    "end\n"
   ]
  }
 ],
 "metadata": {
  "kernelspec": {
   "display_name": "Julia 1.10.0",
   "language": "julia",
   "name": "julia-1.10"
  },
  "language_info": {
   "file_extension": ".jl",
   "mimetype": "application/julia",
   "name": "julia",
   "version": "1.10.0"
  }
 },
 "nbformat": 4,
 "nbformat_minor": 2
}
