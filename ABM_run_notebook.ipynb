{
 "cells": [
  {
   "cell_type": "markdown",
   "metadata": {},
   "source": [
    "Parameter setting from the article hematopoeisis in number, we are going to use the mice data\n",
    "Types and their characteristics:\n",
    "\n",
    "Total number of hematopoeitic cell in a mouse = 1.7 *10^10 ( 1.6*10^10 in blood, 4.5*10^8 in bone marrow, 2.1*10^8 in thymus, 7.6*10^7 in lymph node, 2.1*10^8 in the spleen)\n",
    "Total cell number across different compartment in a healthy mice: 10^4 HSC, 10^5 MPP, 10^6 RPP, 10^8 Granulomyeloids, 10^9 Platelets, 10^10 Erythrocytes, 10^8 Lymphoids\n",
    "\n",
    "MPP: type 1: \n",
    "\n",
    "Information found in supplementary material 1:\n",
    "\n",
    "Lifespan = 1/Death rate = t1/2/ln(2)\n",
    "half life = time for half to die \n",
    "B Cell: Half-life = 24,3 days, lifespan = 35,00 days, death_rate = 0.03\n",
    "Granulomyeloids: half-life = 0.84, lifespan = 1.21 days, death_rate = 0.83\n",
    "Platelets: Half-life = 2.5 days, lifespan = 3.60 days, death_rate = 0.28\n",
    "Red blood cells: half-life = 24.3 days, lifespan = 35 days, death_rate = 0.03\n",
    "\n",
    "Informat\n",
    "\n",
    "Parameters settings found in the article \"Fundamental properties of unperturbed haematopoiesis from stem cells in vivo\"\n",
    "On average, per day, 1 out of 110 HSCs differentiates into an ST-HSC, and 1 out of 22 ST-HSCs differentiates into an \n",
    "MPP. At the MPP stage, considered a lymphoid–myeloid bifurcation point, we estimate that per day 1 out of 46 MPPs generates a CLP, \n",
    "while 1 MPP generates 4 CMPs. Given that the cell numbers also increase from HSC to ST-HSC and MPP, the\n",
    "efflux of cells exceeded influx in all of these compartments. To maintain compartment size, this flux difference is balanced by net proliferation"
   ]
  },
  {
   "cell_type": "code",
   "execution_count": null,
   "metadata": {},
   "outputs": [],
   "source": [
    "Base.@kwdef struct TypeParameters\n",
    "    # each of the properties has for length the number of type\n",
    "    ttd::Vector{Tuple} = [(86.66, 0.18), (86.66, 0.18), (35.0, 0.05), (86.66, 0.05), (3.6, 0.05), (35.0, 0.05)] #Time to death\n",
    "    ttnd::Vector{Tuple} = [(10.9, 0.23), (86.66, 0.18), (10.9, 0.23), (86.66, 0.18),(10.9, 0.23), (86.66, 0.18)] # Time to next division\n",
    "end\n",
    "\n",
    "\n",
    "# Transition Matrix = [MPP4 CLP Dendritic_cell NK B_Cell T_Cell; ]\n",
    "\n",
    "transition_matrix_0 = [0.9 1/46 0.01 0.01 0.01 0.01;\n",
    "                      0.0 0.9 0.025 0.025 0.025 0.025;\n",
    "                      0.0 0.0 1.0 0.0 0.0 0.0;\n",
    "                      0.0 0.0 0.0 1.0 0.0 0.0;\n",
    "                      0.0 0.0 0.0 0.0 1.0 0.0;\n",
    "                      0.0 0.0 0.0 0.0 0.0 1.0]\n",
    "\n",
    "Base.@kwdef struct TransitionDistribution\n",
    "    \n",
    "    ttnt::Vector{Vector{Float64}} = [\n",
    "    transition_time_distribution(transition_matrix_0[1,:], 1),\n",
    "    transition_time_distribution(transition_matrix_0[2,:], 2),\n",
    "    transition_time_distribution(transition_matrix_0[3,:], 3),\n",
    "    transition_time_distribution(transition_matrix_0[4,:], 4),\n",
    "    transition_time_distribution(transition_matrix_0[5,:], 5),\n",
    "    transition_time_distribution(transition_matrix_0[6,:], 6)]\n",
    "end\n",
    "\n",
    "include(\"Initialization.jl\")"
   ]
  },
  {
   "cell_type": "code",
   "execution_count": null,
   "metadata": {},
   "outputs": [],
   "source": [
    "typeparameters_0 = TypeParameters()\n",
    "transition_distribution_0 = TransitionDistribution()\n",
    "n_states = length(typeparameters_0.ttd)\n",
    "\n",
    "n_tot = 30\n",
    "collection_t0 = [(1, 14), (2, 16)]"
   ]
  },
  {
   "cell_type": "code",
   "execution_count": null,
   "metadata": {},
   "outputs": [],
   "source": [
    "type_distribution_0 = initialize_distributions(typeparameters_0, n_states)\n",
    "cell_collection_0 = initialize_collection(type_distribution_0, transition_distribution_0.ttnt, collection_t0, n_tot)\n",
    "\n"
   ]
  },
  {
   "cell_type": "code",
   "execution_count": null,
   "metadata": {},
   "outputs": [],
   "source": [
    "death_file = \"C:\\\\Users\\\\ambre\\\\Documents\\\\ENS\\\\stage_M1\\\\code_1\\\\test_file\"\n",
    "modelparameters_0 = initialize_modelparameters(6, death_file, transition_matrix_0, typeparameters_0, transition_distribution_0)\n",
    "\n",
    "life = initialize_model(collection_t0, transition_distribution_0, modelparameters_0, typeparameters_0, n_tot, ms)"
   ]
  },
  {
   "cell_type": "code",
   "execution_count": null,
   "metadata": {},
   "outputs": [],
   "source": [
    "results = custom_run!(life, life_step!, model_step!, n)"
   ]
  }
 ],
 "metadata": {
  "kernelspec": {
   "display_name": "Julia 1.10.2",
   "language": "julia",
   "name": "julia-1.10"
  },
  "language_info": {
   "file_extension": ".jl",
   "mimetype": "application/julia",
   "name": "julia",
   "version": "1.10.2"
  }
 },
 "nbformat": 4,
 "nbformat_minor": 2
}
